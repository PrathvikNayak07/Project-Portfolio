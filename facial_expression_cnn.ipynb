{
  "cells": [
    {
      "cell_type": "markdown",
      "metadata": {
        "id": "view-in-github",
        "colab_type": "text"
      },
      "source": [
        "<a href=\"https://colab.research.google.com/github/PrathvikNayak07/Project-Portfolio/blob/main/facial_expression_cnn.ipynb\" target=\"_parent\"><img src=\"https://colab.research.google.com/assets/colab-badge.svg\" alt=\"Open In Colab\"/></a>"
      ]
    },
    {
      "cell_type": "code",
      "execution_count": null,
      "id": "c5d9fbcb-f5b9-45a9-b2c9-62362d03c154",
      "metadata": {
        "id": "c5d9fbcb-f5b9-45a9-b2c9-62362d03c154",
        "outputId": "dff7a850-f445-4756-96f8-a7f11c352fa8"
      },
      "outputs": [
        {
          "name": "stdout",
          "output_type": "stream",
          "text": [
            "Requirement already satisfied: torch in c:\\users\\prath\\anaconda3\\lib\\site-packages (2.7.1)\n",
            "Requirement already satisfied: torchvision in c:\\users\\prath\\anaconda3\\lib\\site-packages (0.22.1)\n",
            "Requirement already satisfied: matplotlib in c:\\users\\prath\\anaconda3\\lib\\site-packages (3.8.0)\n",
            "Requirement already satisfied: filelock in c:\\users\\prath\\anaconda3\\lib\\site-packages (from torch) (3.13.1)\n",
            "Requirement already satisfied: typing-extensions>=4.10.0 in c:\\users\\prath\\anaconda3\\lib\\site-packages (from torch) (4.14.1)\n",
            "Requirement already satisfied: sympy>=1.13.3 in c:\\users\\prath\\anaconda3\\lib\\site-packages (from torch) (1.14.0)\n",
            "Requirement already satisfied: networkx in c:\\users\\prath\\anaconda3\\lib\\site-packages (from torch) (3.1)\n",
            "Requirement already satisfied: jinja2 in c:\\users\\prath\\anaconda3\\lib\\site-packages (from torch) (3.1.3)\n",
            "Requirement already satisfied: fsspec in c:\\users\\prath\\anaconda3\\lib\\site-packages (from torch) (2023.10.0)\n",
            "Requirement already satisfied: numpy in c:\\users\\prath\\anaconda3\\lib\\site-packages (from torchvision) (1.26.4)\n",
            "Requirement already satisfied: pillow!=8.3.*,>=5.3.0 in c:\\users\\prath\\anaconda3\\lib\\site-packages (from torchvision) (10.2.0)\n",
            "Requirement already satisfied: contourpy>=1.0.1 in c:\\users\\prath\\anaconda3\\lib\\site-packages (from matplotlib) (1.2.0)\n",
            "Requirement already satisfied: cycler>=0.10 in c:\\users\\prath\\anaconda3\\lib\\site-packages (from matplotlib) (0.11.0)\n",
            "Requirement already satisfied: fonttools>=4.22.0 in c:\\users\\prath\\anaconda3\\lib\\site-packages (from matplotlib) (4.25.0)\n",
            "Requirement already satisfied: kiwisolver>=1.0.1 in c:\\users\\prath\\anaconda3\\lib\\site-packages (from matplotlib) (1.4.4)\n",
            "Requirement already satisfied: packaging>=20.0 in c:\\users\\prath\\anaconda3\\lib\\site-packages (from matplotlib) (23.1)\n",
            "Requirement already satisfied: pyparsing>=2.3.1 in c:\\users\\prath\\anaconda3\\lib\\site-packages (from matplotlib) (3.0.9)\n",
            "Requirement already satisfied: python-dateutil>=2.7 in c:\\users\\prath\\anaconda3\\lib\\site-packages (from matplotlib) (2.8.2)\n",
            "Requirement already satisfied: six>=1.5 in c:\\users\\prath\\anaconda3\\lib\\site-packages (from python-dateutil>=2.7->matplotlib) (1.16.0)\n",
            "Requirement already satisfied: mpmath<1.4,>=1.1.0 in c:\\users\\prath\\anaconda3\\lib\\site-packages (from sympy>=1.13.3->torch) (1.3.0)\n",
            "Requirement already satisfied: MarkupSafe>=2.0 in c:\\users\\prath\\anaconda3\\lib\\site-packages (from jinja2->torch) (2.1.3)\n"
          ]
        }
      ],
      "source": [
        "!pip install torch torchvision matplotlib"
      ]
    },
    {
      "cell_type": "code",
      "execution_count": null,
      "id": "13d21ec0-ebe3-4377-87e8-44e8efa9bc4b",
      "metadata": {
        "id": "13d21ec0-ebe3-4377-87e8-44e8efa9bc4b"
      },
      "outputs": [],
      "source": [
        "# ✅ Step 1: Install and import libraries\n",
        "import os\n",
        "import torch\n",
        "import torch.nn as nn\n",
        "import torch.optim as optim\n",
        "from torchvision import datasets, transforms\n",
        "from torch.utils.data import DataLoader\n",
        "import matplotlib.pyplot as plt"
      ]
    },
    {
      "cell_type": "code",
      "execution_count": null,
      "id": "892ddd38-19a2-41f7-bf91-ccf2ae6f3440",
      "metadata": {
        "id": "892ddd38-19a2-41f7-bf91-ccf2ae6f3440"
      },
      "outputs": [],
      "source": [
        "# ✅ Step 2: Define data paths\n",
        "# Update to your actual folder paths:\n",
        "train_dir = r\"C:\\Users\\prath\\OneDrive\\Desktop\\test\"\n",
        "test_dir = r\"C:\\Users\\prath\\OneDrive\\Desktop\\train\"\n"
      ]
    },
    {
      "cell_type": "code",
      "execution_count": null,
      "id": "6829cd26-4e3d-43cb-84db-02b4a1c0daa4",
      "metadata": {
        "id": "6829cd26-4e3d-43cb-84db-02b4a1c0daa4"
      },
      "outputs": [],
      "source": [
        "# ✅ Step 3: Define transforms\n",
        "transform = transforms.Compose([\n",
        "    transforms.Grayscale(num_output_channels=1),\n",
        "    transforms.Resize((48, 48)),\n",
        "    transforms.RandomHorizontalFlip(),\n",
        "    transforms.RandomRotation(10),\n",
        "    transforms.ToTensor(),\n",
        "    transforms.Normalize((0.5,), (0.5,))\n",
        "])"
      ]
    },
    {
      "cell_type": "code",
      "execution_count": null,
      "id": "fa6a487b-7078-4c54-9401-8249e1f6f3cb",
      "metadata": {
        "id": "fa6a487b-7078-4c54-9401-8249e1f6f3cb",
        "outputId": "beb06695-d034-4a7f-daa5-8b59b06a5bae"
      },
      "outputs": [
        {
          "name": "stdout",
          "output_type": "stream",
          "text": [
            "Classes: ['angry', 'disgust', 'fear', 'happy', 'neutral', 'sad', 'surprise']\n"
          ]
        }
      ],
      "source": [
        "# ✅ Step 4: Load datasets\n",
        "train_dataset = datasets.ImageFolder(root=train_dir, transform=transform)\n",
        "test_dataset = datasets.ImageFolder(root=test_dir, transform=transform)\n",
        "\n",
        "batch_size = 64\n",
        "train_loader = DataLoader(train_dataset, batch_size=batch_size, shuffle=True)\n",
        "test_loader = DataLoader(test_dataset, batch_size=batch_size, shuffle=False)\n",
        "\n",
        "print(\"Classes:\", train_dataset.classes)"
      ]
    },
    {
      "cell_type": "code",
      "execution_count": null,
      "id": "2c1cd0a5-5a43-46f5-a8ac-bf9743247a96",
      "metadata": {
        "id": "2c1cd0a5-5a43-46f5-a8ac-bf9743247a96"
      },
      "outputs": [],
      "source": [
        "# ✅ Step 5: Define CNN model\n",
        "class FacialExpressionCNN(nn.Module):\n",
        "    def __init__(self):\n",
        "        super(FacialExpressionCNN, self).__init__()\n",
        "        self.conv_layer = nn.Sequential(\n",
        "            nn.Conv2d(1, 32, kernel_size=3, padding=1),\n",
        "            nn.ReLU(),\n",
        "            nn.MaxPool2d(2,2),\n",
        "            nn.Conv2d(32, 64, kernel_size=3, padding=1),\n",
        "            nn.ReLU(),\n",
        "            nn.MaxPool2d(2,2),\n",
        "            nn.Conv2d(64, 128, kernel_size=3, padding=1),\n",
        "            nn.ReLU(),\n",
        "            nn.MaxPool2d(2,2)\n",
        "        )\n",
        "        self.fc_layer = nn.Sequential(\n",
        "            nn.Linear(128*6*6, 512),\n",
        "            nn.ReLU(),\n",
        "            nn.Dropout(0.5),\n",
        "            nn.Linear(512, len(train_dataset.classes))\n",
        "        )\n",
        "\n",
        "    def forward(self, x):\n",
        "        x = self.conv_layer(x)\n",
        "        x = x.view(x.size(0), -1)\n",
        "        x = self.fc_layer(x)\n",
        "        return x\n"
      ]
    },
    {
      "cell_type": "code",
      "execution_count": null,
      "id": "0ebf158a-970e-40c6-8e9b-d67ffae14042",
      "metadata": {
        "id": "0ebf158a-970e-40c6-8e9b-d67ffae14042"
      },
      "outputs": [],
      "source": [
        "# ✅ Step 6: Initialize model, loss and optimizer\n",
        "device = torch.device(\"cuda\" if torch.cuda.is_available() else \"cpu\")\n",
        "model = FacialExpressionCNN().to(device)\n",
        "\n",
        "criterion = nn.CrossEntropyLoss()\n",
        "optimizer = optim.Adam(model.parameters(), lr=0.001)\n"
      ]
    },
    {
      "cell_type": "code",
      "execution_count": null,
      "id": "28f6b9ba-d44e-42b1-be94-3e53eebf180f",
      "metadata": {
        "id": "28f6b9ba-d44e-42b1-be94-3e53eebf180f",
        "outputId": "eea9ab36-12a2-488b-ffe9-a8cdf3fe27a1"
      },
      "outputs": [
        {
          "name": "stdout",
          "output_type": "stream",
          "text": [
            "Epoch [1/30] - Loss: 1.7950\n",
            "Epoch [2/30] - Loss: 1.6754\n",
            "Epoch [3/30] - Loss: 1.5806\n",
            "Epoch [4/30] - Loss: 1.5011\n",
            "Epoch [5/30] - Loss: 1.4489\n",
            "Epoch [6/30] - Loss: 1.4027\n",
            "Epoch [7/30] - Loss: 1.3459\n",
            "Epoch [8/30] - Loss: 1.2996\n",
            "Epoch [9/30] - Loss: 1.2601\n",
            "Epoch [10/30] - Loss: 1.2196\n",
            "Epoch [11/30] - Loss: 1.1930\n",
            "Epoch [12/30] - Loss: 1.1646\n",
            "Epoch [13/30] - Loss: 1.1333\n",
            "Epoch [14/30] - Loss: 1.1127\n",
            "Epoch [15/30] - Loss: 1.0769\n",
            "Epoch [16/30] - Loss: 1.0544\n",
            "Epoch [17/30] - Loss: 1.0453\n",
            "Epoch [18/30] - Loss: 1.0252\n",
            "Epoch [19/30] - Loss: 1.0050\n",
            "Epoch [20/30] - Loss: 0.9771\n",
            "Epoch [21/30] - Loss: 0.9589\n",
            "Epoch [22/30] - Loss: 0.9377\n",
            "Epoch [23/30] - Loss: 0.9116\n",
            "Epoch [24/30] - Loss: 0.8781\n",
            "Epoch [25/30] - Loss: 0.8488\n",
            "Epoch [26/30] - Loss: 0.8347\n",
            "Epoch [27/30] - Loss: 0.8239\n",
            "Epoch [28/30] - Loss: 0.7974\n",
            "Epoch [29/30] - Loss: 0.7587\n",
            "Epoch [30/30] - Loss: 0.7546\n"
          ]
        }
      ],
      "source": [
        "# ✅ Step 7: Training loop\n",
        "num_epochs = 30\n",
        "\n",
        "for epoch in range(num_epochs):\n",
        "    model.train()\n",
        "    running_loss = 0.0\n",
        "\n",
        "    for images, labels in train_loader:\n",
        "        images, labels = images.to(device), labels.to(device)\n",
        "\n",
        "        optimizer.zero_grad()\n",
        "        outputs = model(images)\n",
        "        loss = criterion(outputs, labels)\n",
        "        loss.backward()\n",
        "        optimizer.step()\n",
        "\n",
        "        running_loss += loss.item()\n",
        "\n",
        "    avg_loss = running_loss / len(train_loader)\n",
        "    print(f\"Epoch [{epoch+1}/{num_epochs}] - Loss: {avg_loss:.4f}\")"
      ]
    },
    {
      "cell_type": "code",
      "execution_count": null,
      "id": "ccb3f57d-f742-412e-88c9-cbc485a40f5d",
      "metadata": {
        "id": "ccb3f57d-f742-412e-88c9-cbc485a40f5d",
        "outputId": "bd019106-4083-45e1-baa6-67abde42262a"
      },
      "outputs": [
        {
          "name": "stdout",
          "output_type": "stream",
          "text": [
            "Test Accuracy: 52.75%\n"
          ]
        }
      ],
      "source": [
        "# ✅ Step 8: Evaluate\n",
        "model.eval()\n",
        "correct = 0\n",
        "total = 0\n",
        "\n",
        "with torch.no_grad():\n",
        "    for images, labels in test_loader:\n",
        "        images, labels = images.to(device), labels.to(device)\n",
        "        outputs = model(images)\n",
        "        _, predicted = torch.max(outputs, 1)\n",
        "        total += labels.size(0)\n",
        "        correct += (predicted == labels).sum().item()\n",
        "\n",
        "accuracy = 100 * correct / total\n",
        "print(f\"Test Accuracy: {accuracy:.2f}%\")"
      ]
    },
    {
      "cell_type": "code",
      "execution_count": null,
      "id": "2e46b713-23d6-48d3-9bdf-299394ed5d28",
      "metadata": {
        "id": "2e46b713-23d6-48d3-9bdf-299394ed5d28",
        "outputId": "028567d5-0a3b-4b8f-cf5c-26dd68094f33"
      },
      "outputs": [
        {
          "name": "stdout",
          "output_type": "stream",
          "text": [
            "Model saved successfully!\n"
          ]
        }
      ],
      "source": [
        "# ✅ Step 9: Save model\n",
        "torch.save(model.state_dict(), \"facial_expression_cnn.pth\")\n",
        "print(\"Model saved successfully!\")"
      ]
    },
    {
      "cell_type": "code",
      "execution_count": null,
      "id": "2948e71d-5e50-4b02-9e0d-df8836d00586",
      "metadata": {
        "id": "2948e71d-5e50-4b02-9e0d-df8836d00586",
        "outputId": "5c852806-b229-4bc1-b987-4df6bd333cf9"
      },
      "outputs": [
        {
          "data": {
            "image/png": "[encoded data removed]",
            "text/plain": [
              "<Figure size 640x480 with 2 Axes>"
            ]
          },
          "metadata": {},
          "output_type": "display_data"
        }
      ],
      "source": [
        "# ✅ Step 10: Confusion Matrix\n",
        "from sklearn.metrics import confusion_matrix, ConfusionMatrixDisplay\n",
        "import numpy as np\n",
        "\n",
        "all_labels = []\n",
        "all_preds = []\n",
        "\n",
        "model.eval()\n",
        "with torch.no_grad():\n",
        "    for images, labels in test_loader:\n",
        "        images = images.to(device)\n",
        "        outputs = model(images)\n",
        "        _, predicted = torch.max(outputs, 1)\n",
        "        all_labels.extend(labels.numpy())\n",
        "        all_preds.extend(predicted.cpu().numpy())\n",
        "\n",
        "cm = confusion_matrix(all_labels, all_preds)\n",
        "disp = ConfusionMatrixDisplay(confusion_matrix=cm, display_labels=train_dataset.classes)\n",
        "disp.plot(cmap='Blues')\n",
        "plt.show()"
      ]
    },
    {
      "cell_type": "code",
      "execution_count": null,
      "id": "3df0f966-2228-47ec-9012-a84dcb256d35",
      "metadata": {
        "id": "3df0f966-2228-47ec-9012-a84dcb256d35",
        "outputId": "80bb18eb-a97d-4c45-d2a8-85e1a2d59110"
      },
      "outputs": [
        {
          "name": "stdout",
          "output_type": "stream",
          "text": [
            "Found existing installation: numpy 2.2.0\n",
            "Uninstalling numpy-2.2.0:\n",
            "  Successfully uninstalled numpy-2.2.0\n",
            "Found existing installation: opencv-python 4.12.0.88\n",
            "Uninstalling opencv-python-4.12.0.88:\n",
            "  Successfully uninstalled opencv-python-4.12.0.88\n"
          ]
        }
      ],
      "source": [
        "!pip uninstall -y numpy opencv-python"
      ]
    },
    {
      "cell_type": "code",
      "execution_count": null,
      "id": "63994803-ced0-4c3e-bab9-5fe766386f57",
      "metadata": {
        "id": "63994803-ced0-4c3e-bab9-5fe766386f57",
        "outputId": "698ba12e-b4f4-4e4e-c4e9-1120604a36cc"
      },
      "outputs": [
        {
          "name": "stdout",
          "output_type": "stream",
          "text": [
            "Collecting numpy==1.24.4\n",
            "  Using cached numpy-1.24.4-cp311-cp311-win_amd64.whl.metadata (5.6 kB)\n",
            "Using cached numpy-1.24.4-cp311-cp311-win_amd64.whl (14.8 MB)\n",
            "Installing collected packages: numpy\n",
            "Successfully installed numpy-1.24.4\n"
          ]
        },
        {
          "name": "stderr",
          "output_type": "stream",
          "text": [
            "ERROR: pip's dependency resolver does not currently take into account all the packages that are installed. This behaviour is the source of the following dependency conflicts.\n",
            "gensim 4.3.0 requires FuzzyTM>=0.4.0, which is not installed.\n"
          ]
        }
      ],
      "source": [
        "!pip install numpy==1.24.4"
      ]
    },
    {
      "cell_type": "code",
      "execution_count": null,
      "id": "7c7fcd00-0d9f-4fc6-8b72-f64e4d3be050",
      "metadata": {
        "id": "7c7fcd00-0d9f-4fc6-8b72-f64e4d3be050",
        "outputId": "f2ec7d2c-fa16-47c8-c64e-a0ebc085e410"
      },
      "outputs": [
        {
          "name": "stdout",
          "output_type": "stream",
          "text": [
            "Collecting opencv-python==4.7.0.72\n",
            "  Downloading opencv_python-4.7.0.72-cp37-abi3-win_amd64.whl.metadata (18 kB)\n",
            "Requirement already satisfied: numpy>=1.21.2 in c:\\users\\prath\\anaconda3\\lib\\site-packages (from opencv-python==4.7.0.72) (1.24.4)\n",
            "Downloading opencv_python-4.7.0.72-cp37-abi3-win_amd64.whl (38.2 MB)\n",
            "   ---------------------------------------- 0.0/38.2 MB ? eta -:--:--\n",
            "   ---------------------------------------- 0.1/38.2 MB 5.5 MB/s eta 0:00:07\n",
            "   ---------------------------------------- 0.5/38.2 MB 5.6 MB/s eta 0:00:07\n",
            "    --------------------------------------- 0.8/38.2 MB 6.7 MB/s eta 0:00:06\n",
            "   - -------------------------------------- 1.4/38.2 MB 8.1 MB/s eta 0:00:05\n",
            "   -- ------------------------------------- 2.0/38.2 MB 9.3 MB/s eta 0:00:04\n",
            "   -- ------------------------------------- 2.8/38.2 MB 11.3 MB/s eta 0:00:04\n",
            "   --- ------------------------------------ 3.7/38.2 MB 11.9 MB/s eta 0:00:03\n",
            "   ----- ---------------------------------- 5.0/38.2 MB 14.0 MB/s eta 0:00:03\n",
            "   ------ --------------------------------- 6.3/38.2 MB 15.5 MB/s eta 0:00:03\n",
            "   -------- ------------------------------- 7.9/38.2 MB 17.5 MB/s eta 0:00:02\n",
            "   --------- ------------------------------ 9.5/38.2 MB 19.5 MB/s eta 0:00:02\n",
            "   ------------ --------------------------- 11.7/38.2 MB 27.3 MB/s eta 0:00:01\n",
            "   ------------- -------------------------- 13.2/38.2 MB 34.4 MB/s eta 0:00:01\n",
            "   ---------------- ----------------------- 15.3/38.2 MB 40.9 MB/s eta 0:00:01\n",
            "   ----------------- ---------------------- 17.1/38.2 MB 43.7 MB/s eta 0:00:01\n",
            "   -------------------- ------------------- 19.7/38.2 MB 54.4 MB/s eta 0:00:01\n",
            "   --------------------- ------------------ 20.8/38.2 MB 46.7 MB/s eta 0:00:01\n",
            "   ----------------------- ---------------- 22.1/38.2 MB 40.9 MB/s eta 0:00:01\n",
            "   ------------------------ --------------- 23.0/38.2 MB 36.4 MB/s eta 0:00:01\n",
            "   ------------------------ --------------- 23.1/38.2 MB 31.2 MB/s eta 0:00:01\n",
            "   ------------------------- -------------- 24.0/38.2 MB 28.4 MB/s eta 0:00:01\n",
            "   -------------------------- ------------- 24.9/38.2 MB 27.3 MB/s eta 0:00:01\n",
            "   --------------------------- ------------ 26.4/38.2 MB 26.2 MB/s eta 0:00:01\n",
            "   ---------------------------- ----------- 27.3/38.2 MB 24.2 MB/s eta 0:00:01\n",
            "   ----------------------------- ---------- 27.9/38.2 MB 22.6 MB/s eta 0:00:01\n",
            "   ----------------------------- ---------- 28.5/38.2 MB 21.1 MB/s eta 0:00:01\n",
            "   ------------------------------ --------- 29.1/38.2 MB 19.3 MB/s eta 0:00:01\n",
            "   ------------------------------- -------- 29.9/38.2 MB 18.2 MB/s eta 0:00:01\n",
            "   -------------------------------- ------- 30.6/38.2 MB 17.7 MB/s eta 0:00:01\n",
            "   -------------------------------- ------- 31.2/38.2 MB 17.2 MB/s eta 0:00:01\n",
            "   --------------------------------- ------ 32.1/38.2 MB 16.4 MB/s eta 0:00:01\n",
            "   ---------------------------------- ----- 32.8/38.2 MB 16.0 MB/s eta 0:00:01\n",
            "   ----------------------------------- ---- 33.4/38.2 MB 18.2 MB/s eta 0:00:01\n",
            "   ------------------------------------ --- 34.5/38.2 MB 17.7 MB/s eta 0:00:01\n",
            "   ------------------------------------- -- 35.3/38.2 MB 16.8 MB/s eta 0:00:01\n",
            "   ------------------------------------- -- 36.2/38.2 MB 16.0 MB/s eta 0:00:01\n",
            "   -------------------------------------- - 37.1/38.2 MB 16.0 MB/s eta 0:00:01\n",
            "   ---------------------------------------  37.8/38.2 MB 16.0 MB/s eta 0:00:01\n",
            "   ---------------------------------------  38.2/38.2 MB 16.4 MB/s eta 0:00:01\n",
            "   ---------------------------------------  38.2/38.2 MB 16.4 MB/s eta 0:00:01\n",
            "   ---------------------------------------- 38.2/38.2 MB 14.2 MB/s eta 0:00:00\n",
            "Installing collected packages: opencv-python\n",
            "Successfully installed opencv-python-4.7.0.72\n"
          ]
        }
      ],
      "source": [
        "!pip install opencv-python==4.7.0.72"
      ]
    },
    {
      "cell_type": "code",
      "execution_count": null,
      "id": "6bb61a25-52c5-4f0b-ae3e-279e112149b7",
      "metadata": {
        "id": "6bb61a25-52c5-4f0b-ae3e-279e112149b7",
        "outputId": "e7ad52cd-9b27-4ebb-81a3-ccd444941450"
      },
      "outputs": [
        {
          "name": "stdout",
          "output_type": "stream",
          "text": [
            "Collecting FuzzyTM==1.0.0\n",
            "  Downloading FuzzyTM-1.0.0-py3-none-any.whl.metadata (7.7 kB)\n",
            "Requirement already satisfied: numpy in c:\\users\\prath\\anaconda3\\lib\\site-packages (from FuzzyTM==1.0.0) (1.24.4)\n",
            "Requirement already satisfied: pandas in c:\\users\\prath\\anaconda3\\lib\\site-packages (from FuzzyTM==1.0.0) (2.1.4)\n",
            "Requirement already satisfied: scipy in c:\\users\\prath\\anaconda3\\lib\\site-packages (from FuzzyTM==1.0.0) (1.11.4)\n",
            "Collecting pyfume (from FuzzyTM==1.0.0)\n",
            "  Downloading pyFUME-0.3.4-py3-none-any.whl.metadata (9.7 kB)\n",
            "Requirement already satisfied: python-dateutil>=2.8.2 in c:\\users\\prath\\anaconda3\\lib\\site-packages (from pandas->FuzzyTM==1.0.0) (2.8.2)\n",
            "Requirement already satisfied: pytz>=2020.1 in c:\\users\\prath\\anaconda3\\lib\\site-packages (from pandas->FuzzyTM==1.0.0) (2023.3.post1)\n",
            "Requirement already satisfied: tzdata>=2022.1 in c:\\users\\prath\\anaconda3\\lib\\site-packages (from pandas->FuzzyTM==1.0.0) (2023.3)\n",
            "Collecting scipy (from FuzzyTM==1.0.0)\n",
            "  Downloading scipy-1.10.1-cp311-cp311-win_amd64.whl.metadata (58 kB)\n",
            "     ---------------------------------------- 0.0/59.0 kB ? eta -:--:--\n",
            "     ---------------------------------- ----- 51.2/59.0 kB 2.7 MB/s eta 0:00:01\n",
            "     ---------------------------------------- 59.0/59.0 kB 1.6 MB/s eta 0:00:00\n",
            "Collecting simpful==2.12.0 (from pyfume->FuzzyTM==1.0.0)\n",
            "  Downloading simpful-2.12.0-py3-none-any.whl.metadata (4.8 kB)\n",
            "Collecting fst-pso==1.8.1 (from pyfume->FuzzyTM==1.0.0)\n",
            "  Downloading fst-pso-1.8.1.tar.gz (18 kB)\n",
            "  Preparing metadata (setup.py): started\n",
            "  Preparing metadata (setup.py): finished with status 'done'\n",
            "Collecting pandas (from FuzzyTM==1.0.0)\n",
            "  Downloading pandas-1.5.3-cp311-cp311-win_amd64.whl.metadata (12 kB)\n",
            "Collecting miniful (from fst-pso==1.8.1->pyfume->FuzzyTM==1.0.0)\n",
            "  Downloading miniful-0.0.6.tar.gz (2.8 kB)\n",
            "  Preparing metadata (setup.py): started\n",
            "  Preparing metadata (setup.py): finished with status 'done'\n",
            "Requirement already satisfied: six>=1.5 in c:\\users\\prath\\anaconda3\\lib\\site-packages (from python-dateutil>=2.8.2->pandas->FuzzyTM==1.0.0) (1.16.0)\n",
            "Downloading FuzzyTM-1.0.0-py3-none-any.whl (28 kB)\n",
            "Downloading pyFUME-0.3.4-py3-none-any.whl (60 kB)\n",
            "   ---------------------------------------- 0.0/60.3 kB ? eta -:--:--\n",
            "   ---------------------------------------- 60.3/60.3 kB 3.3 MB/s eta 0:00:00\n",
            "Downloading pandas-1.5.3-cp311-cp311-win_amd64.whl (10.3 MB)\n",
            "   ---------------------------------------- 0.0/10.3 MB ? eta -:--:--\n",
            "    --------------------------------------- 0.2/10.3 MB 4.9 MB/s eta 0:00:03\n",
            "   -- ------------------------------------- 0.6/10.3 MB 7.5 MB/s eta 0:00:02\n",
            "   ---- ----------------------------------- 1.0/10.3 MB 7.4 MB/s eta 0:00:02\n",
            "   ---- ----------------------------------- 1.1/10.3 MB 7.0 MB/s eta 0:00:02\n",
            "   ---- ----------------------------------- 1.1/10.3 MB 7.0 MB/s eta 0:00:02\n",
            "   ----- ---------------------------------- 1.3/10.3 MB 5.2 MB/s eta 0:00:02\n",
            "   ----- ---------------------------------- 1.5/10.3 MB 4.8 MB/s eta 0:00:02\n",
            "   ----- ---------------------------------- 1.5/10.3 MB 4.8 MB/s eta 0:00:02\n",
            "   ------ --------------------------------- 1.6/10.3 MB 3.8 MB/s eta 0:00:03\n",
            "   ------- -------------------------------- 1.9/10.3 MB 4.0 MB/s eta 0:00:03\n",
            "   -------- ------------------------------- 2.3/10.3 MB 4.3 MB/s eta 0:00:02\n",
            "   ----------- ---------------------------- 2.9/10.3 MB 5.2 MB/s eta 0:00:02\n",
            "   ------------ --------------------------- 3.3/10.3 MB 5.4 MB/s eta 0:00:02\n",
            "   --------------- ------------------------ 3.9/10.3 MB 5.8 MB/s eta 0:00:02\n",
            "   ---------------- ----------------------- 4.3/10.3 MB 6.0 MB/s eta 0:00:02\n",
            "   ------------------ --------------------- 4.7/10.3 MB 6.1 MB/s eta 0:00:01\n",
            "   ------------------- -------------------- 5.0/10.3 MB 6.3 MB/s eta 0:00:01\n",
            "   -------------------- ------------------- 5.3/10.3 MB 6.3 MB/s eta 0:00:01\n",
            "   --------------------- ------------------ 5.6/10.3 MB 6.3 MB/s eta 0:00:01\n",
            "   ---------------------- ----------------- 5.9/10.3 MB 6.2 MB/s eta 0:00:01\n",
            "   ------------------------ --------------- 6.2/10.3 MB 6.2 MB/s eta 0:00:01\n",
            "   ------------------------- -------------- 6.5/10.3 MB 6.2 MB/s eta 0:00:01\n",
            "   -------------------------- ------------- 6.9/10.3 MB 6.3 MB/s eta 0:00:01\n",
            "   --------------------------- ------------ 7.2/10.3 MB 6.3 MB/s eta 0:00:01\n",
            "   ----------------------------- ---------- 7.6/10.3 MB 6.4 MB/s eta 0:00:01\n",
            "   ------------------------------ --------- 7.9/10.3 MB 6.3 MB/s eta 0:00:01\n",
            "   -------------------------------- ------- 8.3/10.3 MB 6.4 MB/s eta 0:00:01\n",
            "   --------------------------------- ------ 8.6/10.3 MB 6.4 MB/s eta 0:00:01\n",
            "   ---------------------------------- ----- 9.0/10.3 MB 6.5 MB/s eta 0:00:01\n",
            "   ------------------------------------ --- 9.4/10.3 MB 6.6 MB/s eta 0:00:01\n",
            "   ------------------------------------- -- 9.8/10.3 MB 6.6 MB/s eta 0:00:01\n",
            "   ---------------------------------------  10.3/10.3 MB 6.7 MB/s eta 0:00:01\n",
            "   ---------------------------------------  10.3/10.3 MB 6.7 MB/s eta 0:00:01\n",
            "   ---------------------------------------- 10.3/10.3 MB 6.5 MB/s eta 0:00:00\n",
            "Downloading scipy-1.10.1-cp311-cp311-win_amd64.whl (42.2 MB)\n",
            "   ---------------------------------------- 0.0/42.2 MB ? eta -:--:--\n",
            "   ---------------------------------------- 0.4/42.2 MB 8.7 MB/s eta 0:00:05\n",
            "    --------------------------------------- 0.8/42.2 MB 8.5 MB/s eta 0:00:05\n",
            "   - -------------------------------------- 1.3/42.2 MB 9.0 MB/s eta 0:00:05\n",
            "   - -------------------------------------- 1.8/42.2 MB 9.5 MB/s eta 0:00:05\n",
            "   -- ------------------------------------- 2.3/42.2 MB 9.7 MB/s eta 0:00:05\n",
            "   -- ------------------------------------- 2.8/42.2 MB 9.8 MB/s eta 0:00:05\n",
            "   --- ------------------------------------ 3.3/42.2 MB 9.9 MB/s eta 0:00:04\n",
            "   --- ------------------------------------ 3.8/42.2 MB 10.0 MB/s eta 0:00:04\n",
            "   ---- ----------------------------------- 4.4/42.2 MB 9.9 MB/s eta 0:00:04\n",
            "   ---- ----------------------------------- 4.8/42.2 MB 9.9 MB/s eta 0:00:04\n",
            "   ----- ---------------------------------- 5.4/42.2 MB 10.1 MB/s eta 0:00:04\n",
            "   ----- ---------------------------------- 6.0/42.2 MB 10.3 MB/s eta 0:00:04\n",
            "   ------ --------------------------------- 6.5/42.2 MB 10.5 MB/s eta 0:00:04\n",
            "   ------ --------------------------------- 7.1/42.2 MB 10.6 MB/s eta 0:00:04\n",
            "   ------- -------------------------------- 7.6/42.2 MB 10.7 MB/s eta 0:00:04\n",
            "   ------- -------------------------------- 8.3/42.2 MB 10.8 MB/s eta 0:00:04\n",
            "   -------- ------------------------------- 8.9/42.2 MB 11.0 MB/s eta 0:00:04\n",
            "   --------- ------------------------------ 9.5/42.2 MB 11.1 MB/s eta 0:00:03\n",
            "   --------- ------------------------------ 10.1/42.2 MB 11.1 MB/s eta 0:00:03\n",
            "   ---------- ----------------------------- 10.7/42.2 MB 11.5 MB/s eta 0:00:03\n",
            "   ---------- ----------------------------- 11.2/42.2 MB 11.5 MB/s eta 0:00:03\n",
            "   ---------- ----------------------------- 11.6/42.2 MB 11.3 MB/s eta 0:00:03\n",
            "   ----------- ---------------------------- 11.9/42.2 MB 11.3 MB/s eta 0:00:03\n",
            "   ----------- ---------------------------- 12.2/42.2 MB 11.1 MB/s eta 0:00:03\n",
            "   ----------- ---------------------------- 12.6/42.2 MB 10.7 MB/s eta 0:00:03\n",
            "   ------------ --------------------------- 12.8/42.2 MB 10.6 MB/s eta 0:00:03\n",
            "   ------------ --------------------------- 13.0/42.2 MB 10.1 MB/s eta 0:00:03\n",
            "   ------------ --------------------------- 13.2/42.2 MB 9.9 MB/s eta 0:00:03\n",
            "   ------------ --------------------------- 13.4/42.2 MB 9.6 MB/s eta 0:00:03\n",
            "   ------------ --------------------------- 13.6/42.2 MB 9.4 MB/s eta 0:00:04\n",
            "   ------------- -------------------------- 13.8/42.2 MB 9.1 MB/s eta 0:00:04\n",
            "   ------------- -------------------------- 14.0/42.2 MB 9.0 MB/s eta 0:00:04\n",
            "   ------------- -------------------------- 14.3/42.2 MB 8.7 MB/s eta 0:00:04\n",
            "   ------------- -------------------------- 14.5/42.2 MB 8.6 MB/s eta 0:00:04\n",
            "   -------------- ------------------------- 14.8/42.2 MB 8.5 MB/s eta 0:00:04\n",
            "   -------------- ------------------------- 15.1/42.2 MB 8.3 MB/s eta 0:00:04\n",
            "   -------------- ------------------------- 15.3/42.2 MB 8.2 MB/s eta 0:00:04\n",
            "   -------------- ------------------------- 15.7/42.2 MB 8.0 MB/s eta 0:00:04\n",
            "   --------------- ------------------------ 16.0/42.2 MB 7.8 MB/s eta 0:00:04\n",
            "   --------------- ------------------------ 16.3/42.2 MB 7.8 MB/s eta 0:00:04\n",
            "   --------------- ------------------------ 16.7/42.2 MB 7.6 MB/s eta 0:00:04\n",
            "   ---------------- ----------------------- 17.0/42.2 MB 7.5 MB/s eta 0:00:04\n",
            "   ---------------- ----------------------- 17.3/42.2 MB 7.4 MB/s eta 0:00:04\n",
            "   ---------------- ----------------------- 17.6/42.2 MB 7.3 MB/s eta 0:00:04\n",
            "   ---------------- ----------------------- 17.8/42.2 MB 7.2 MB/s eta 0:00:04\n",
            "   ----------------- ---------------------- 18.1/42.2 MB 7.0 MB/s eta 0:00:04\n",
            "   ----------------- ---------------------- 18.4/42.2 MB 6.9 MB/s eta 0:00:04\n",
            "   ----------------- ---------------------- 18.7/42.2 MB 6.8 MB/s eta 0:00:04\n",
            "   ------------------ --------------------- 19.0/42.2 MB 6.6 MB/s eta 0:00:04\n",
            "   ------------------ --------------------- 19.4/42.2 MB 6.6 MB/s eta 0:00:04\n",
            "   ------------------ --------------------- 19.8/42.2 MB 6.4 MB/s eta 0:00:04\n",
            "   ------------------- -------------------- 20.1/42.2 MB 6.4 MB/s eta 0:00:04\n",
            "   ------------------- -------------------- 20.5/42.2 MB 6.3 MB/s eta 0:00:04\n",
            "   ------------------- -------------------- 20.8/42.2 MB 6.2 MB/s eta 0:00:04\n",
            "   -------------------- ------------------- 21.2/42.2 MB 6.2 MB/s eta 0:00:04\n",
            "   -------------------- ------------------- 21.6/42.2 MB 6.2 MB/s eta 0:00:04\n",
            "   -------------------- ------------------- 22.0/42.2 MB 6.2 MB/s eta 0:00:04\n",
            "   --------------------- ------------------ 22.4/42.2 MB 6.2 MB/s eta 0:00:04\n",
            "   --------------------- ------------------ 22.9/42.2 MB 6.4 MB/s eta 0:00:04\n",
            "   ---------------------- ----------------- 23.3/42.2 MB 6.6 MB/s eta 0:00:03\n",
            "   ---------------------- ----------------- 23.8/42.2 MB 6.8 MB/s eta 0:00:03\n",
            "   ---------------------- ----------------- 24.3/42.2 MB 7.0 MB/s eta 0:00:03\n",
            "   ----------------------- ---------------- 24.6/42.2 MB 7.2 MB/s eta 0:00:03\n",
            "   ----------------------- ---------------- 25.2/42.2 MB 7.5 MB/s eta 0:00:03\n",
            "   ------------------------ --------------- 25.7/42.2 MB 7.7 MB/s eta 0:00:03\n",
            "   ------------------------ --------------- 26.2/42.2 MB 7.9 MB/s eta 0:00:03\n",
            "   ------------------------- -------------- 26.7/42.2 MB 8.0 MB/s eta 0:00:02\n",
            "   ------------------------- -------------- 27.2/42.2 MB 8.1 MB/s eta 0:00:02\n",
            "   -------------------------- ------------- 27.6/42.2 MB 8.2 MB/s eta 0:00:02\n",
            "   -------------------------- ------------- 28.0/42.2 MB 8.4 MB/s eta 0:00:02\n",
            "   -------------------------- ------------- 28.3/42.2 MB 8.5 MB/s eta 0:00:02\n",
            "   --------------------------- ------------ 28.8/42.2 MB 8.6 MB/s eta 0:00:02\n",
            "   --------------------------- ------------ 29.2/42.2 MB 8.8 MB/s eta 0:00:02\n",
            "   ---------------------------- ----------- 29.6/42.2 MB 8.8 MB/s eta 0:00:02\n",
            "   ---------------------------- ----------- 30.0/42.2 MB 8.8 MB/s eta 0:00:02\n",
            "   ---------------------------- ----------- 30.3/42.2 MB 8.7 MB/s eta 0:00:02\n",
            "   ---------------------------- ----------- 30.6/42.2 MB 8.7 MB/s eta 0:00:02\n",
            "   ----------------------------- ---------- 30.8/42.2 MB 8.6 MB/s eta 0:00:02\n",
            "   ----------------------------- ---------- 31.0/42.2 MB 8.6 MB/s eta 0:00:02\n",
            "   ----------------------------- ---------- 31.3/42.2 MB 8.4 MB/s eta 0:00:02\n",
            "   ----------------------------- ---------- 31.5/42.2 MB 8.3 MB/s eta 0:00:02\n",
            "   ------------------------------ --------- 31.8/42.2 MB 8.2 MB/s eta 0:00:02\n",
            "   ------------------------------ --------- 32.1/42.2 MB 8.1 MB/s eta 0:00:02\n",
            "   ------------------------------ --------- 32.4/42.2 MB 8.1 MB/s eta 0:00:02\n",
            "   ------------------------------- -------- 32.7/42.2 MB 7.9 MB/s eta 0:00:02\n",
            "   ------------------------------- -------- 33.1/42.2 MB 7.9 MB/s eta 0:00:02\n",
            "   ------------------------------- -------- 33.4/42.2 MB 7.9 MB/s eta 0:00:02\n",
            "   ------------------------------- -------- 33.7/42.2 MB 7.7 MB/s eta 0:00:02\n",
            "   -------------------------------- ------- 34.1/42.2 MB 7.6 MB/s eta 0:00:02\n",
            "   -------------------------------- ------- 34.5/42.2 MB 7.6 MB/s eta 0:00:02\n",
            "   -------------------------------- ------- 34.8/42.2 MB 7.5 MB/s eta 0:00:01\n",
            "   --------------------------------- ------ 35.2/42.2 MB 7.4 MB/s eta 0:00:01\n",
            "   --------------------------------- ------ 35.6/42.2 MB 7.4 MB/s eta 0:00:01\n",
            "   ---------------------------------- ----- 36.0/42.2 MB 7.4 MB/s eta 0:00:01\n",
            "   ---------------------------------- ----- 36.4/42.2 MB 7.4 MB/s eta 0:00:01\n",
            "   ---------------------------------- ----- 36.8/42.2 MB 7.3 MB/s eta 0:00:01\n",
            "   ----------------------------------- ---- 37.3/42.2 MB 7.2 MB/s eta 0:00:01\n",
            "   ----------------------------------- ---- 37.7/42.2 MB 7.4 MB/s eta 0:00:01\n",
            "   ------------------------------------ --- 38.2/42.2 MB 7.4 MB/s eta 0:00:01\n",
            "   ------------------------------------ --- 38.7/42.2 MB 7.4 MB/s eta 0:00:01\n",
            "   ------------------------------------- -- 39.2/42.2 MB 7.5 MB/s eta 0:00:01\n",
            "   ------------------------------------- -- 39.4/42.2 MB 7.4 MB/s eta 0:00:01\n",
            "   -------------------------------------- - 40.1/42.2 MB 7.5 MB/s eta 0:00:01\n",
            "   -------------------------------------- - 40.6/42.2 MB 7.8 MB/s eta 0:00:01\n",
            "   -------------------------------------- - 40.9/42.2 MB 7.7 MB/s eta 0:00:01\n",
            "   ---------------------------------------  41.3/42.2 MB 8.0 MB/s eta 0:00:01\n",
            "   ---------------------------------------  41.7/42.2 MB 8.1 MB/s eta 0:00:01\n",
            "   ---------------------------------------  42.0/42.2 MB 8.2 MB/s eta 0:00:01\n",
            "   ---------------------------------------  42.2/42.2 MB 8.4 MB/s eta 0:00:01\n",
            "   ---------------------------------------  42.2/42.2 MB 8.4 MB/s eta 0:00:01\n",
            "   ---------------------------------------  42.2/42.2 MB 8.4 MB/s eta 0:00:01\n",
            "   ---------------------------------------  42.2/42.2 MB 8.4 MB/s eta 0:00:01\n",
            "   ---------------------------------------- 42.2/42.2 MB 7.3 MB/s eta 0:00:00\n",
            "Downloading simpful-2.12.0-py3-none-any.whl (24 kB)\n",
            "Building wheels for collected packages: fst-pso, miniful\n",
            "  Building wheel for fst-pso (setup.py): started\n",
            "  Building wheel for fst-pso (setup.py): finished with status 'done'\n",
            "  Created wheel for fst-pso: filename=fst_pso-1.8.1-py3-none-any.whl size=20451 sha256=613fff975ad4333f1902b7a211794bcd307fc050d070281ce62f687f98fe78d2\n",
            "  Stored in directory: c:\\users\\prath\\appdata\\local\\pip\\cache\\wheels\\69\\f5\\e5\\18ad53fe1ed6b2af9fad05ec052e4acbac8e92441df44bad2e\n",
            "  Building wheel for miniful (setup.py): started\n",
            "  Building wheel for miniful (setup.py): finished with status 'done'\n",
            "  Created wheel for miniful: filename=miniful-0.0.6-py3-none-any.whl size=3517 sha256=6caba58f68b41a6bc0a8d72d6e0e90b820cf7daf663c63078017ca64397da270\n",
            "  Stored in directory: c:\\users\\prath\\appdata\\local\\pip\\cache\\wheels\\9d\\ff\\2f\\afe4cd56f47de147407705626517d68bea0f3b74eb1fb168e6\n",
            "Successfully built fst-pso miniful\n",
            "Installing collected packages: scipy, simpful, pandas, miniful, fst-pso, pyfume, FuzzyTM\n",
            "  Attempting uninstall: scipy\n",
            "    Found existing installation: scipy 1.11.4\n",
            "    Uninstalling scipy-1.11.4:\n",
            "      Successfully uninstalled scipy-1.11.4\n",
            "  Attempting uninstall: pandas\n",
            "    Found existing installation: pandas 2.1.4\n",
            "    Uninstalling pandas-2.1.4:\n",
            "      Successfully uninstalled pandas-2.1.4\n",
            "Successfully installed FuzzyTM-1.0.0 fst-pso-1.8.1 miniful-0.0.6 pandas-1.5.3 pyfume-0.3.4 scipy-1.10.1 simpful-2.12.0\n"
          ]
        }
      ],
      "source": [
        "!pip install FuzzyTM==1.0.0"
      ]
    },
    {
      "cell_type": "code",
      "execution_count": null,
      "id": "d6fedcc9-0fdb-404c-9e2f-908454988d43",
      "metadata": {
        "id": "d6fedcc9-0fdb-404c-9e2f-908454988d43",
        "outputId": "61de6d57-c2f6-446c-f8d1-4a21ffdf931a"
      },
      "outputs": [
        {
          "name": "stdout",
          "output_type": "stream",
          "text": [
            "✅ Installed OpenCV version: 4.7.0\n",
            "✅ Installed NumPy version: 1.26.4\n"
          ]
        }
      ],
      "source": [
        "import cv2\n",
        "import numpy as np\n",
        "\n",
        "print(\"✅ Installed OpenCV version:\", cv2.__version__)\n",
        "print(\"✅ Installed NumPy version:\", np.__version__)"
      ]
    },
    {
      "cell_type": "code",
      "execution_count": null,
      "id": "e986cb63-574f-4786-a91e-77bb65ac74b4",
      "metadata": {
        "id": "e986cb63-574f-4786-a91e-77bb65ac74b4"
      },
      "outputs": [],
      "source": [
        "# Save the trained model\n",
        "torch.save(model.state_dict(), \"facial_expression_cnn.pth\")\n"
      ]
    },
    {
      "cell_type": "code",
      "execution_count": null,
      "id": "21121485-d453-40f0-8b9f-942de0a2b24d",
      "metadata": {
        "id": "21121485-d453-40f0-8b9f-942de0a2b24d"
      },
      "outputs": [],
      "source": [
        "import cv2\n",
        "import torch\n",
        "from torchvision import transforms\n",
        "from PIL import Image  # Import PIL\n",
        "\n",
        "device = torch.device(\"cuda\" if torch.cuda.is_available() else \"cpu\")\n",
        "\n",
        "transform = transforms.Compose([\n",
        "    transforms.Resize((48, 48)),\n",
        "    transforms.Grayscale(num_output_channels=1),\n",
        "    transforms.ToTensor()\n",
        "])\n",
        "\n",
        "model.load_state_dict(torch.load(\"facial_expression_cnn.pth\", map_location=device))\n",
        "model.to(device)\n",
        "model.eval()\n",
        "\n",
        "class_names = train_dataset.classes  # Make sure train_dataset is defined\n",
        "\n",
        "cap = cv2.VideoCapture(0)\n",
        "\n",
        "while True:\n",
        "    ret, frame = cap.read()\n",
        "    if not ret:\n",
        "        break\n",
        "\n",
        "    # Convert frame to grayscale (OpenCV) and then to PIL Image\n",
        "    gray = cv2.cvtColor(frame, cv2.COLOR_BGR2GRAY)\n",
        "    pil_img = Image.fromarray(gray)  # Convert numpy ndarray to PIL Image\n",
        "\n",
        "    # Apply transforms (resize, to tensor, etc)\n",
        "    face_tensor = transform(pil_img).unsqueeze(0).to(device)\n",
        "\n",
        "    with torch.no_grad():\n",
        "        output = model(face_tensor)\n",
        "        _, predicted = torch.max(output, 1)\n",
        "        label = class_names[predicted.item()]\n",
        "\n",
        "    # Display label on original frame\n",
        "    cv2.putText(frame, label, (10, 40), cv2.FONT_HERSHEY_SIMPLEX, 1.5, (0, 255, 0), 3)\n",
        "    cv2.imshow(\"Facial Expression Detection\", frame)\n",
        "\n",
        "    if cv2.waitKey(1) & 0xFF == ord('q'):\n",
        "        break\n",
        "\n",
        "cap.release()\n",
        "cv2.destroyAllWindows()\n"
      ]
    }
  ],
  "metadata": {
    "kernelspec": {
      "display_name": "Python 3 (ipykernel)",
      "language": "python",
      "name": "python3"
    },
    "language_info": {
      "codemirror_mode": {
        "name": "ipython",
        "version": 3
      },
      "file_extension": ".py",
      "mimetype": "text/x-python",
      "name": "python",
      "nbconvert_exporter": "python",
      "pygments_lexer": "ipython3",
      "version": "3.11.7"
    },
    "colab": {
      "provenance": [],
      "include_colab_link": true
    }
  },
  "nbformat": 4,
  "nbformat_minor": 5
}